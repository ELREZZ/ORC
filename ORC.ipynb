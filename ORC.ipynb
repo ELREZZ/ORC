{
 "cells": [
  {
   "cell_type": "code",
   "execution_count": 1,
   "metadata": {},
   "outputs": [],
   "source": [
    "import cv2\n",
    "import pytesseract"
   ]
  },
  {
   "cell_type": "code",
   "execution_count": 2,
   "metadata": {},
   "outputs": [
    {
     "name": "stdout",
     "output_type": "stream",
     "text": [
      "OMAR MARZOUK\n",
      "TASK1: OCR\n",
      "\n"
     ]
    }
   ],
   "source": [
    "pytesseract.pytesseract.tesseract_cmd= 'C:\\\\Program Files\\\\Tesseract-OCR\\\\tesseract'\n",
    "img= cv2.imread('TEST.png')\n",
    "img= cv2.cvtColor(img,cv2.COLOR_BGR2RGB)\n",
    "cv2.imshow('res',img)\n",
    "cv2.waitKey(5)\n",
    "print(pytesseract.image_to_string(img))"
   ]
  },
  {
   "cell_type": "code",
   "execution_count": 3,
   "metadata": {},
   "outputs": [],
   "source": [
    "txtfile= open('C:\\\\Users\\\\RzouGa\\\\OCR\\\\text.txt','w')\n",
    "txtfile.write(pytesseract.image_to_string(img))\n",
    "txtfile.close()"
   ]
  }
 ],
 "metadata": {
  "interpreter": {
   "hash": "aa956e39acc0c6f1a7ce6f10dc3865c7bd0493cf26f80d6761abfd578644a20e"
  },
  "kernelspec": {
   "display_name": "Python 3.10.4 64-bit",
   "language": "python",
   "name": "python3"
  },
  "language_info": {
   "codemirror_mode": {
    "name": "ipython",
    "version": 3
   },
   "file_extension": ".py",
   "mimetype": "text/x-python",
   "name": "python",
   "nbconvert_exporter": "python",
   "pygments_lexer": "ipython3",
   "version": "3.10.4"
  },
  "orig_nbformat": 4
 },
 "nbformat": 4,
 "nbformat_minor": 2
}
